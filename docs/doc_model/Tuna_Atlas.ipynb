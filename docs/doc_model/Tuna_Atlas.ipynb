{
 "cells": [
  {
   "cell_type": "markdown",
   "metadata": {},
   "source": [
    "# Setting environment with required packages"
   ]
  },
  {
   "cell_type": "code",
   "execution_count": null,
   "metadata": {},
   "outputs": [],
   "source": [
    "require(\"remotes\")\n",
    "#install_github(\"eblondel/geoflow\", dependencies = c(\"Depends\", \"Imports\"))\n",
    "install_github(\"eblondel/geoflow\")"
   ]
  },
  {
   "cell_type": "code",
   "execution_count": null,
   "metadata": {},
   "outputs": [],
   "source": [
    "install.packages(\"gsheet\")"
   ]
  },
  {
   "cell_type": "markdown",
   "metadata": {},
   "source": [
    "## Load codelists, mappings & RFMOS datasets"
   ]
  },
  {
   "cell_type": "code",
   "execution_count": null,
   "metadata": {},
   "outputs": [],
   "source": [
    "#config=initWorkflow(\"~/workspace/geoflow-tunaatlas/tunaatlas_qa_dbmodel+codelists_julien.json\")\n",
    "executeWorkflow(\"~/workspace/geoflow-tunaatlas/tunaatlas_qa_dbmodel+codelists_julien.json\")\n",
    "executeWorkflow(\"~/workspace/geoflow-tunaatlas/tunaatlas_qa_mappings_julien.json\")\n",
    "executeWorkflow(\"~/workspace/geoflow-tunaatlas/tunaatlas_qa_datasets_julien.json\")"
   ]
  },
  {
   "cell_type": "markdown",
   "metadata": {},
   "source": [
    "## Generation of global datasets with various levels of processing: Levels 0, 1, 2"
   ]
  },
  {
   "cell_type": "code",
   "execution_count": null,
   "metadata": {},
   "outputs": [],
   "source": [
    "executeWorkflow(\"~/workspace/geoflow-tunaatlas/tunaatlas_qa_global_datasets_julien.json\")"
   ]
  },
  {
   "cell_type": "markdown",
   "metadata": {},
   "source": [
    "## Generate data dictionary of the SQL data warehouse"
   ]
  },
  {
   "cell_type": "code",
   "execution_count": null,
   "metadata": {},
   "outputs": [],
   "source": [
    "data_dictionary <- \"https://docs.google.com/spreadsheets/d/13cPY2AmGrCXidbkIY-CRnOhAZB8ebnyrXLUgxG_NSeA/edit?usp=sharing\"\n",
    "feature_catalog <- as.data.frame(gsheet::gsheet2tbl(data_dictionary))\n",
    "head(feature_catalog)"
   ]
  }
 ],
 "metadata": {
  "kernelspec": {
   "display_name": "R",
   "language": "R",
   "name": "ir"
  },
  "language_info": {
   "codemirror_mode": "r",
   "file_extension": ".r",
   "mimetype": "text/x-r-source",
   "name": "R",
   "pygments_lexer": "r",
   "version": "3.6.1"
  }
 },
 "nbformat": 4,
 "nbformat_minor": 4
}
